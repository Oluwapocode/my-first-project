{
  "cells": [
    {
      "cell_type": "markdown",
      "metadata": {
        "id": "view-in-github",
        "colab_type": "text"
      },
      "source": [
        "<a href=\"https://colab.research.google.com/github/Oluwapocode/my-first-project/blob/main/_notebook_file.ipynb\" target=\"_parent\"><img src=\"https://colab.research.google.com/assets/colab-badge.svg\" alt=\"Open In Colab\"/></a>"
      ]
    },
    {
      "cell_type": "code",
      "execution_count": null,
      "metadata": {
        "colab": {
          "base_uri": "https://localhost:8080/"
        },
        "id": "yN_l7SnuPKOO",
        "outputId": "dc9441b5-7855-4298-8a60-c21f5bb27e0f"
      },
      "outputs": [
        {
          "output_type": "stream",
          "name": "stdout",
          "text": [
            "welcome to the quiz game\n",
            "\n",
            "question1/5: list is a what collections?Ordered \n",
            "Bravo!\n",
            "\n",
            "question2/5: tuple is a what collections?Immutable \n",
            "Bravo!\n",
            "\n",
            "question3/5: sets is a what collections?Unordered \n",
            "Bravo!\n",
            "\n",
            "question4/5: list are enclosed in a ----Square brackets \n",
            "ouch incorrect,the correct answer is!  square_bracket\n",
            "\n",
            "question5/5: do sets duplicates,(true/false)True\n",
            "ouch incorrect,the correct answer is!  false\n",
            "your final score is: 3/5\n"
          ]
        }
      ],
      "source": [
        "\n",
        "\n",
        "\n",
        "\n",
        "#quiz game\n",
        "\n",
        "def quiz_game( ):\n",
        "    questions_answers=[\n",
        "        {'question':'list is a what collections?', 'answer': 'ordered'},\n",
        "        {'question':'Tuple is a what collections?', 'answer': 'immutable'},\n",
        "        {'question':'Sets is a what collections?', 'answer': 'unordered'},\n",
        "        {'question':'List are enclosed in a ----', 'answer': 'square_bracket'},\n",
        "        {'question':'Do sets duplicates,(True/False)', 'answer': 'false'}\n",
        "        ]\n",
        "    print('welcome to the quiz game')\n",
        "\n",
        "    score = 0\n",
        "    ques_num = len(questions_answers)\n",
        "\n",
        "    for I, questions_answers_data in enumerate(questions_answers):\n",
        "        question = questions_answers_data['question'].lower( )\n",
        "        correct_answer = questions_answers_data['answer'].lower().strip()\n",
        "\n",
        "        while True:\n",
        "            user_input = input(f'\\nquestion{I+1}/{ques_num}: {question}').lower().strip()\n",
        "            if user_input:\n",
        "                if user_input == correct_answer:\n",
        "                    print('Bravo!')\n",
        "                    score+= 1\n",
        "                    break\n",
        "                else:\n",
        "                    print(f'ouch incorrect,the correct answer is!  {correct_answer}')\n",
        "                    break\n",
        "            else:\n",
        "                Print('enter your answer')\n",
        "    print(f'your final score is: {score}/{ques_num}')\n",
        "\n",
        "quiz_game( )"
      ]
    },
    {
      "cell_type": "code",
      "source": [
        "\n",
        "\n",
        "print('welcome to number identifier')\n",
        "\n",
        "\n",
        "\n",
        "def is_prime(num):\n",
        "    if num <= 1:\n",
        "        return False\n",
        "    for i in range(2,int(num**0.5)+1):\n",
        "        if num % i == 0:\n",
        "            return False\n",
        "    return True\n",
        "\n",
        "\n",
        "def is_armstrong(num):\n",
        "    count_digit=int(len(str(num)))\n",
        "\n",
        "    temp = num\n",
        "    sum = 0\n",
        "\n",
        "    while temp != 0:\n",
        "        rem = temp%10\n",
        "        temp = temp//10\n",
        "        sum += rem**count_digit\n",
        "    return sum == num\n",
        "\n",
        "\n",
        "def is_palindrome(num):\n",
        "    return str(num) == str(num)[::-1]\n",
        "\n",
        "while True:\n",
        "    try:\n",
        "        num_str = input(f'\\nEnter a number (or type \"quit\" to exit) : ')\n",
        "        if num_str.lower() =='quit':\n",
        "            break\n",
        "        else:\n",
        "            num =int(num_str)\n",
        "            prime = is_prime(num)\n",
        "            armstrong = is_armstrong(num)\n",
        "            palindrome= is_palindrome(num)\n",
        "\n",
        "\n",
        "            print(f'\\nis number prime,(True/False): {prime}')\n",
        "            print(f'\\nis number armstrong,(True/False):  {armstrong}')\n",
        "            print(f'\\nis number palindrome(True/False):  {palindrome}')\n",
        "\n",
        "            if not (prime or armstrong or palindrome):\n",
        "                print(f'\\n{num} does not meet the specified criteria.')\n",
        "\n",
        "\n",
        "\n",
        "    except ValueError:\n",
        "        print('invalid input, please enter an integer or type \"quit\".')"
      ],
      "metadata": {
        "id": "jjl-J0NaEJKw",
        "colab": {
          "base_uri": "https://localhost:8080/"
        },
        "outputId": "edb000bf-2d06-4cf0-f080-c0d76bf11ffa"
      },
      "execution_count": null,
      "outputs": [
        {
          "name": "stdout",
          "output_type": "stream",
          "text": [
            "welcome to number identifier\n",
            "\n",
            "Enter a number (or type \"quit\" to exit) : 6\n",
            "\n",
            "is number prime,(True/False): False\n",
            "\n",
            "is number armstrong,(True/False):  True\n",
            "\n",
            "is number palindrome(True/False):  True\n",
            "\n",
            "Enter a number (or type \"quit\" to exit) : 6\n",
            "\n",
            "is number prime,(True/False): False\n",
            "\n",
            "is number armstrong,(True/False):  True\n",
            "\n",
            "is number palindrome(True/False):  True\n",
            "\n",
            "Enter a number (or type \"quit\" to exit) : 14\n",
            "\n",
            "is number prime,(True/False): False\n",
            "\n",
            "is number armstrong,(True/False):  False\n",
            "\n",
            "is number palindrome(True/False):  False\n",
            "\n",
            "14 does not meet the specified criteria.\n",
            "\n",
            "Enter a number (or type \"quit\" to exit) : quit\n"
          ]
        }
      ]
    },
    {
      "cell_type": "code",
      "source": [
        "def number_swapper():\n",
        "    '''swap two numbers, without using a temporary variable and it uses unpacking for swapping'''\n",
        "def number_swapper():\n",
        "    '''swap two numbers, without using a temporary variable and it uses unpacking for swapping'''\n",
        "    while True:\n",
        "        try:\n",
        "            user_input =int(input('X = '))\n",
        "            break\n",
        "        except ValueError:\n",
        "            print(\"Invalid input. Please enter an integer.\")\n",
        "    while True:\n",
        "        try:\n",
        "            user_input_2 = int(input('Y = '))\n",
        "            break\n",
        "        except ValueError:\n",
        "            print(\"Invalid input. Please enter an integer.\")\n",
        "    print(\"Before Swapping\")\n",
        "    print(\"X =\", user_input)\n",
        "    print(\"Y =\", user_input_2)\n",
        "\n",
        "    user_input, user_input_2 = user_input_2, user_input\n",
        "\n",
        "    print(\"After Swapping\")\n",
        "    print(\"X =\", user_input)\n",
        "    print(\"Y =\", user_input_2)\n",
        "\n",
        "number_swapper()"
      ],
      "metadata": {
        "id": "v6YPF1EUOqZd",
        "colab": {
          "base_uri": "https://localhost:8080/"
        },
        "outputId": "535c24bf-80ce-427f-c1e9-d17132940e1d"
      },
      "execution_count": null,
      "outputs": [
        {
          "output_type": "stream",
          "name": "stdout",
          "text": [
            "X = 5\n",
            "Y = 6\n",
            "Before Swapping\n",
            "X = 5\n",
            "Y = 6\n",
            "After Swapping\n",
            "X = 6\n",
            "Y = 5\n"
          ]
        }
      ]
    }
  ],
  "metadata": {
    "colab": {
      "provenance": [],
      "authorship_tag": "ABX9TyNgVXZe7cw5Id2KkgaA61lB",
      "include_colab_link": true
    },
    "kernelspec": {
      "display_name": "Python 3",
      "name": "python3"
    },
    "language_info": {
      "name": "python"
    }
  },
  "nbformat": 4,
  "nbformat_minor": 0
}